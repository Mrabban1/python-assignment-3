{
 "cells": [
  {
   "cell_type": "markdown",
   "id": "610d842b-5477-4ede-84d2-a074ca1a1966",
   "metadata": {},
   "source": [
    "1. Why are functions advantageous to have in your programs?"
   ]
  },
  {
   "cell_type": "markdown",
   "id": "6b0a4586-b117-4ce7-895a-a434bd4f814a",
   "metadata": {},
   "source": [
    "ANS: Function are the first forms of resuable code that use in program,this function makes program easy to read ,short and update the program. "
   ]
  },
  {
   "cell_type": "markdown",
   "id": "3613db3f-c40f-4284-adf3-57ffff597cb7",
   "metadata": {},
   "source": [
    "2. When does the code in a function run: when it&#39;s specified or when it&#39;s called?"
   ]
  },
  {
   "cell_type": "markdown",
   "id": "cf29fc7a-7f1e-47ed-b1c0-c8bc774f7c47",
   "metadata": {},
   "source": [
    "Ans: The code in a function run when it is called"
   ]
  },
  {
   "cell_type": "markdown",
   "id": "ee21ede4-3b1c-41f5-93e2-dc6b8ba7c9f7",
   "metadata": {},
   "source": [
    "3. What statement creates a function?"
   ]
  },
  {
   "cell_type": "markdown",
   "id": "80936935-abd2-452f-9dc0-ce042db1c4cc",
   "metadata": {},
   "source": [
    "Ans: In python a function is define using the def keyword."
   ]
  },
  {
   "cell_type": "markdown",
   "id": "196a0f2b-eed9-41a8-9346-5b6c96822393",
   "metadata": {},
   "source": [
    "4. What is the difference between a function and a function call?"
   ]
  },
  {
   "cell_type": "markdown",
   "id": "7b036552-2117-46fa-9e90-a0f39db4fbf3",
   "metadata": {},
   "source": [
    "Ans: Function:A function is a set of instruction that perform a action.It's is define with parameters,local variables and statement to\n",
    "                execute when the function is called\n",
    "                \n",
    "    Function call:A function call is the act of invoking a function.It is a expression that contains  the function name and the function call  operator,which is parentheses. If the function has a parameters the value to be passed into the function are listed inside the \n",
    "    parentheses.\n",
    "\n",
    "A function is a set of instruction that perform an action, while a function call is the act of invoking that function"
   ]
  },
  {
   "cell_type": "markdown",
   "id": "21e0d32f-bfc5-459c-a494-4fb8f5f8a125",
   "metadata": {},
   "source": [
    "5. How many global scopes are there in a Python program? How many local scopes?"
   ]
  },
  {
   "cell_type": "markdown",
   "id": "69e7636f-0ae7-483e-ba16-774c25f67881",
   "metadata": {},
   "source": [
    "Ans: There are only one global scopes per program execution.This scope remains in exitance until the program terminate, and \n",
    "a local scope is created whenever a function is called."
   ]
  },
  {
   "cell_type": "markdown",
   "id": "474bdf9a-f12b-4f26-82ef-b4306c92ae63",
   "metadata": {},
   "source": [
    "6. What happens to variables in a local scope when the function call returns?"
   ]
  },
  {
   "cell_type": "markdown",
   "id": "46bc65f6-426c-4d87-bb03-30d4164f22ca",
   "metadata": {},
   "source": [
    "Ans: when the function call returns the local scope are destroyed and are no longer accessible."
   ]
  },
  {
   "cell_type": "markdown",
   "id": "6cff8162-3fe3-4d15-adaf-d7a9ed1c9925",
   "metadata": {},
   "source": [
    "7. What is the concept of a return value? Is it possible to have a return value in an expression?"
   ]
  },
  {
   "cell_type": "markdown",
   "id": "5d912f42-3ebf-4148-9354-ea5b837fd192",
   "metadata": {},
   "source": [
    "Ans: A return value is a value that a function call evaluates to,like any value a return value can be used as part of expression."
   ]
  },
  {
   "cell_type": "markdown",
   "id": "f6d4b1c2-17df-4890-a35f-1cc6b6bdb2d2",
   "metadata": {},
   "source": [
    "8. If a function does not have a return statement, what is the return value of a call to that function?"
   ]
  },
  {
   "cell_type": "markdown",
   "id": "e789529a-33ba-47b1-bcd9-60f1e074e6ec",
   "metadata": {},
   "source": [
    "Ans: If the fundtion does not have return statement than it will not return anything."
   ]
  },
  {
   "cell_type": "markdown",
   "id": "18200e96-006e-4cfe-a5b8-95e272492017",
   "metadata": {},
   "source": [
    "9. How do you make a function variable refer to the global variable?"
   ]
  },
  {
   "cell_type": "markdown",
   "id": "e97c4857-bd97-4b85-89f2-88f6ed300cb3",
   "metadata": {},
   "source": [
    "Ans: to make a function variable as a global variable than we use the global keyword to declare which variable are global."
   ]
  },
  {
   "cell_type": "markdown",
   "id": "ef131493-325a-44d3-a83c-586be93d08b1",
   "metadata": {},
   "source": [
    "10. What is the data type of None?"
   ]
  },
  {
   "cell_type": "markdown",
   "id": "0d21df00-27fd-4a0b-88e7-3f1f1612a3ae",
   "metadata": {},
   "source": [
    "Ans: The None keyword  is used to define a null value or no value at all. None is not the same as 0, false or any empty string> None is \n",
    "a data type of its own (none type) and onle non cab be none"
   ]
  },
  {
   "cell_type": "markdown",
   "id": "3f89c007-9aec-4630-a17b-30dc9abc1b9c",
   "metadata": {},
   "source": [
    "11. What does the sentence import areallyourpetsnamederic do?"
   ]
  },
  {
   "cell_type": "markdown",
   "id": "8b2a7f44-ac8b-413a-ae6c-2440cb1564a8",
   "metadata": {},
   "source": [
    "Ans: That import statement import a module name areallyourpetsnamederic but a module of its name does't exit in python "
   ]
  },
  {
   "cell_type": "markdown",
   "id": "196f5336-a892-4398-866d-7767da6a1348",
   "metadata": {},
   "source": [
    "12. If you had a bacon() feature in a spam module, what would you call it after importing spam?"
   ]
  },
  {
   "cell_type": "markdown",
   "id": "4e6ea051-5d04-4a51-abb4-046f5b522f85",
   "metadata": {},
   "source": [
    "Ans: import spam\n",
    "\n",
    "spam.bacon()"
   ]
  },
  {
   "cell_type": "markdown",
   "id": "66c6a0c9-265a-4fcf-a9b8-198ed967613d",
   "metadata": {},
   "source": [
    "13. What can you do to save a programme from crashing if it encounters an error?"
   ]
  },
  {
   "cell_type": "markdown",
   "id": "f7326a60-a5ff-448e-87ae-31016659bb2c",
   "metadata": {},
   "source": [
    "Ans: We can use try except clause to save a program from crashing."
   ]
  },
  {
   "cell_type": "markdown",
   "id": "8c8b5cbb-a90f-41c1-a54f-9ca9a5894539",
   "metadata": {},
   "source": [
    "14. What is the purpose of the try clause? What is the purpose of the except clause?"
   ]
  },
  {
   "cell_type": "markdown",
   "id": "432d7ce3-593d-4f57-bd17-69a08d6a1f68",
   "metadata": {},
   "source": [
    "Ans:Try and except clause is  used to handle the error with in our code. the try block used is used to check some code of error i.e the code inside\n",
    "the try block will be execute when there is no error in program.Whereas the code inside the except block will execute block will execute whenever the\n",
    "program encounter some error in the try block."
   ]
  },
  {
   "cell_type": "code",
   "execution_count": null,
   "id": "ca8a7147-49cd-4fe9-97fa-c27aa1438f09",
   "metadata": {},
   "outputs": [],
   "source": []
  }
 ],
 "metadata": {
  "kernelspec": {
   "display_name": "Python 3 (ipykernel)",
   "language": "python",
   "name": "python3"
  },
  "language_info": {
   "codemirror_mode": {
    "name": "ipython",
    "version": 3
   },
   "file_extension": ".py",
   "mimetype": "text/x-python",
   "name": "python",
   "nbconvert_exporter": "python",
   "pygments_lexer": "ipython3",
   "version": "3.12.4"
  }
 },
 "nbformat": 4,
 "nbformat_minor": 5
}
